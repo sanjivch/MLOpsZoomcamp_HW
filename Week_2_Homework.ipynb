{
 "cells": [
  {
   "cell_type": "markdown",
   "id": "4f94f7d6",
   "metadata": {},
   "source": [
    "# Q1. Install MLflow\n",
    "What version of MLFlow do you have?"
   ]
  },
  {
   "cell_type": "code",
   "execution_count": 1,
   "id": "7b71cea5",
   "metadata": {},
   "outputs": [
    {
     "name": "stdout",
     "output_type": "stream",
     "text": [
      "mlflow, version 1.17.0\r\n"
     ]
    }
   ],
   "source": [
    "! mlflow --version"
   ]
  },
  {
   "cell_type": "markdown",
   "id": "3e419b61",
   "metadata": {},
   "source": [
    "# Q2. Download and preprocess the data\n",
    "We'll use the Green Taxi Trip Records dataset.\n",
    "\n",
    "Download the data for January, February and March 2021 in parquet format from here.\n",
    "\n",
    "Use the script preprocess_data.py located in the folder homework to preprocess the data.\n",
    "\n",
    "The script will\n",
    "\n",
    "load the data from the folder <TAXI_DATA_FOLDER> (the folder where you have downloaded the data),\n",
    "fit a DictVectorizer on the training set (January 2021 data),\n",
    "save the preprocessed datasets and the model to disk\n",
    "Your task is to download the datasets and then execute this command:\n",
    "\n",
    "python preprocess_data.py --raw_data_path <TAXI_DATA_FOLDER> --dest_path ./output\n",
    "Tip: go to 02-experiment-tracking/homework/ folder before executing the command and change the value of <TAXI_DATA_FOLDER> to the location where you saved the data.\n",
    "\n",
    "How many files were saved to OUTPUT_FOLDER?\n",
    "\n",
    "1\n",
    "3\n",
    "4\n",
    "7\n"
   ]
  },
  {
   "cell_type": "code",
   "execution_count": 21,
   "id": "fd50beb0",
   "metadata": {},
   "outputs": [],
   "source": [
    "! python3 preprocess_data.py --raw_data_path '/home/elite/Documents/DataTalksClub/MLOpsZoomcamp_HW/data' --dest_path ./output"
   ]
  },
  {
   "cell_type": "code",
   "execution_count": 25,
   "id": "1293fbfd",
   "metadata": {},
   "outputs": [
    {
     "name": "stdout",
     "output_type": "stream",
     "text": [
      "dv.pkl\t\t\t\tgreen_tripdata_2021-03.parquet\tvalid.pkl\r\n",
      "green_tripdata_2021-01.parquet\ttest.pkl\r\n",
      "green_tripdata_2021-02.parquet\ttrain.pkl\r\n"
     ]
    }
   ],
   "source": [
    "! ls /home/elite/Documents/DataTalksClub/MLOpsZoomcamp_HW/data"
   ]
  },
  {
   "cell_type": "markdown",
   "id": "db9de123",
   "metadata": {},
   "source": [
    "There are 4 new files"
   ]
  },
  {
   "cell_type": "markdown",
   "id": "b5881b02",
   "metadata": {},
   "source": [
    "# Q3. Train a model with autolog\n",
    "We will train a random forest regressor (from Scikit-Learn) on the taxi dataset.\n",
    "\n",
    "We have prepared the training script train.py for this exercise, which can be also found in the folder homework. The script will load the datasets produced by the previous step, train the model on the training set and finally calculate the RMSE on the validation set.\n",
    "\n",
    "Your task is to modify the script to enable autologging with MLflow, execute the script and then launch the MLflow UI to check that the experiment run was properly tracked.\n",
    "\n",
    "Tip 1: don't forget to wrap the training code with a with mlflow.start_run(): statement as we showed in the videos.\n",
    "\n",
    "Tip 2: don't modify the hyperparameters of the model to make sure that the training will finish quickly.\n",
    "\n",
    "How many parameters are automatically logged by MLflow?\n",
    "\n",
    "19\n",
    "17\n",
    "10\n",
    "20"
   ]
  },
  {
   "cell_type": "code",
   "execution_count": 27,
   "id": "b8b2c1e5",
   "metadata": {},
   "outputs": [
    {
     "name": "stdout",
     "output_type": "stream",
     "text": [
      "2022/05/31 07:13:45 INFO mlflow.tracking.fluent: Autologging successfully enabled for sklearn.\n",
      "2022/05/31 07:13:45 INFO mlflow.utils.autologging_utils: Created MLflow autologging run with ID '189194cb189b4e34a18384c2e4021735', which will track hyperparameters, performance metrics, model artifacts, and lineage information for the current sklearn workflow\n"
     ]
    }
   ],
   "source": [
    "! python3 train.py --data_path ./data"
   ]
  },
  {
   "cell_type": "code",
   "execution_count": 28,
   "id": "3bf558dc",
   "metadata": {},
   "outputs": [
    {
     "name": "stdout",
     "output_type": "stream",
     "text": [
      "bootstrap     max_leaf_nodes\t     min_samples_split\t       random_state\r\n",
      "ccp_alpha     max_samples\t     min_weight_fraction_leaf  verbose\r\n",
      "criterion     min_impurity_decrease  n_estimators\t       warm_start\r\n",
      "max_depth     min_impurity_split     n_jobs\r\n",
      "max_features  min_samples_leaf\t     oob_score\r\n"
     ]
    }
   ],
   "source": [
    "! ls /home/elite/Documents/DataTalksClub/MLOpsZoomcamp_HW/mlruns/0/189194cb189b4e34a18384c2e4021735/params"
   ]
  },
  {
   "cell_type": "markdown",
   "id": "fe11817f",
   "metadata": {},
   "source": [
    "This shows 18 params. The options do not have 18. So, I will select 17, considering verbose is not really a parameter."
   ]
  },
  {
   "cell_type": "markdown",
   "id": "edc5f834",
   "metadata": {},
   "source": [
    "# Q4. Launch the tracking server locally\n",
    "We want to manage the entire lifecycle of our ML model. In this step, you'll need to launch a tracking server. This way we will also have access to the model registry.\n",
    "\n",
    "Your task is to\n",
    "\n",
    "launch the tracking server on your local machine\n",
    "select a SQLite db for the backend store and a folder called artifacts for the artifacts store\n",
    "You should keep the tracking server running to work on the next two exercises that use the server.\n",
    "\n",
    "In addition to backend-store-uri, what else do you need to pass to properly configure the server?\n",
    "\n",
    "default-artifact-root\n",
    "serve-artifacts\n",
    "artifacts-only\n",
    "artifacts-destination"
   ]
  },
  {
   "cell_type": "code",
   "execution_count": 30,
   "id": "f394e14b",
   "metadata": {},
   "outputs": [
    {
     "name": "stdout",
     "output_type": "stream",
     "text": [
      "2022/05/31 07:22:08 INFO mlflow.store.db.utils: Creating initial MLflow database tables...\n",
      "2022/05/31 07:22:08 INFO mlflow.store.db.utils: Updating database tables\n",
      "INFO  [alembic.runtime.migration] Context impl SQLiteImpl.\n",
      "INFO  [alembic.runtime.migration] Will assume non-transactional DDL.\n",
      "INFO  [alembic.runtime.migration] Running upgrade  -> 451aebb31d03, add metric step\n",
      "INFO  [alembic.runtime.migration] Running upgrade 451aebb31d03 -> 90e64c465722, migrate user column to tags\n",
      "INFO  [alembic.runtime.migration] Running upgrade 90e64c465722 -> 181f10493468, allow nulls for metric values\n",
      "INFO  [alembic.runtime.migration] Running upgrade 181f10493468 -> df50e92ffc5e, Add Experiment Tags Table\n",
      "INFO  [alembic.runtime.migration] Running upgrade df50e92ffc5e -> 7ac759974ad8, Update run tags with larger limit\n",
      "INFO  [alembic.runtime.migration] Running upgrade 7ac759974ad8 -> 89d4b8295536, create latest metrics table\n",
      "INFO  [89d4b8295536_create_latest_metrics_table_py] Migration complete!\n",
      "INFO  [alembic.runtime.migration] Running upgrade 89d4b8295536 -> 2b4d017a5e9b, add model registry tables to db\n",
      "INFO  [2b4d017a5e9b_add_model_registry_tables_to_db_py] Adding registered_models and model_versions tables to database.\n",
      "INFO  [2b4d017a5e9b_add_model_registry_tables_to_db_py] Migration complete!\n",
      "INFO  [alembic.runtime.migration] Running upgrade 2b4d017a5e9b -> cfd24bdc0731, Update run status constraint with killed\n",
      "INFO  [alembic.runtime.migration] Running upgrade cfd24bdc0731 -> 0a8213491aaa, drop_duplicate_killed_constraint\n",
      "WARNI [0a8213491aaa_drop_duplicate_killed_constraint_py] Failed to drop check constraint. Dropping check constraints may not be supported by your SQL database. Exception content: No support for ALTER of constraints in SQLite dialectPlease refer to the batch mode feature which allows for SQLite migrations using a copy-and-move strategy.\n",
      "INFO  [alembic.runtime.migration] Running upgrade 0a8213491aaa -> 728d730b5ebd, add registered model tags table\n",
      "INFO  [alembic.runtime.migration] Running upgrade 728d730b5ebd -> 27a6a02d2cf1, add model version tags table\n",
      "INFO  [alembic.runtime.migration] Running upgrade 27a6a02d2cf1 -> 84291f40a231, add run_link to model_version\n",
      "INFO  [alembic.runtime.migration] Running upgrade 84291f40a231 -> a8c4a736bde6, allow nulls for run_id\n",
      "INFO  [alembic.runtime.migration] Running upgrade a8c4a736bde6 -> 39d1c3be5f05, add_is_nan_constraint_for_metrics_tables_if_necessary\n",
      "INFO  [alembic.runtime.migration] Running upgrade 39d1c3be5f05 -> c48cb773bb87, reset_default_value_for_is_nan_in_metrics_table_for_mysql\n",
      "INFO  [alembic.runtime.migration] Context impl SQLiteImpl.\n",
      "INFO  [alembic.runtime.migration] Will assume non-transactional DDL.\n",
      "[2022-05-31 07:22:09 +0530] [213816] [INFO] Starting gunicorn 20.1.0\n",
      "[2022-05-31 07:22:09 +0530] [213816] [INFO] Listening at: http://127.0.0.1:5000 (213816)\n",
      "[2022-05-31 07:22:09 +0530] [213816] [INFO] Using worker: sync\n",
      "[2022-05-31 07:22:09 +0530] [213818] [INFO] Booting worker with pid: 213818\n",
      "^C\n",
      "[2022-05-31 07:22:43 +0530] [213816] [INFO] Handling signal: int\n",
      "[2022-05-31 07:22:43 +0530] [213818] [INFO] Worker exiting (pid: 213818)\n"
     ]
    }
   ],
   "source": [
    "! mlflow ui --backend-store-uri sqlite:///mlflow.db --default-artifact-root ./artifacts"
   ]
  },
  {
   "cell_type": "markdown",
   "id": "b2fe8e4b",
   "metadata": {},
   "source": [
    "The argument `default-artifact-root` needs to be passed to properly configure the server."
   ]
  },
  {
   "cell_type": "markdown",
   "id": "418ee00d",
   "metadata": {},
   "source": [
    "# Q5. Tune the hyperparameters of the model\n",
    "Now let's try to reduce the validation error by tuning the hyperparameters of the random forest regressor using hyperopt.\n",
    "\n",
    "We have prepared the script hpo.py for this exercise.\n",
    "\n",
    "Your task is to modify the script hpo.py and make sure that the validation RMSE is logged to MLflow for each run of the hyperparameter optimization (you will need to add a few lines of code to the objective function) and run the script without passing any parameters.\n",
    "\n",
    "After that, open the MLflow UI and explore the runs from the experiment called random-forest-hyperopt to answer the question below.\n",
    "\n",
    "Important: don't use autologging for this exercise.\n",
    "\n",
    "The idea is to just log the information that you need to answer the question below, including:\n",
    "\n",
    "the list of hyperparameters that are passed to the objective function during the optimization.\n",
    "the RMSE obtained on the validation set (February 2021 data).\n",
    "What's the best validation RMSE that you got?\n",
    "\n",
    "6.128\n",
    "6.628\n",
    "7.128\n",
    "7.628\n"
   ]
  },
  {
   "cell_type": "code",
   "execution_count": 35,
   "id": "f326ace5",
   "metadata": {},
   "outputs": [
    {
     "name": "stdout",
     "output_type": "stream",
     "text": [
      "INFO: 'random-forest-hyperopt' does not exist. Creating a new experiment\n",
      "100%|█████████| 50/50 [08:40<00:00, 10.41s/trial, best loss: 6.6284257482044735]\n"
     ]
    }
   ],
   "source": [
    "! python3 hpo.py --data_path ./data"
   ]
  },
  {
   "cell_type": "markdown",
   "id": "bfb1f2af",
   "metadata": {},
   "source": [
    "Best loss: 6.6284"
   ]
  },
  {
   "cell_type": "markdown",
   "id": "8a9e1f98",
   "metadata": {},
   "source": [
    "# Q6. Promote the best model to the model registry\n",
    "The results from the hyperparameter optimization are quite good so we can assume that we are ready to test some of these models in production. In this exercise, you'll promote the best model to the model registry. We have prepared a script called register_model.py, which will check the results from the previous step and select the top 5 runs. After that, it will calculate the RMSE of those models on the test set (March 2021 data) and save the results to a new experiment called random-forest-best-models.\n",
    "\n",
    "Your task is to update the script register_model.py so that it selects the model with the lowest RMSE on the test set and registers it to the model registry.\n",
    "\n",
    "Tip 1: you can use the method search_runs from the MlflowClient to get the model with the lowest RMSE. Tip 2: to register the model you can use the method mlflow.register_model and you will need to pass the right model_uri in the form of a string that looks like this: \"runs:/<RUN_ID>/model\", and the name of the model (make sure to choose a good one!).\n",
    "\n",
    "What is the test RMSE of the best model?\n",
    "\n",
    "6.1\n",
    "6.55\n",
    "7.93\n",
    "15.1\n"
   ]
  },
  {
   "cell_type": "code",
   "execution_count": 37,
   "id": "cdff3f28",
   "metadata": {},
   "outputs": [
    {
     "name": "stdout",
     "output_type": "stream",
     "text": [
      "2022/05/31 07:56:14 WARNING mlflow.sklearn: Failed to infer model signature: Expected one of (pandas.DataFrame, numpy array, dictionary of (name -> numpy.ndarray), pyspark.sql.DataFrame) but got '<class 'scipy.sparse.csr.csr_matrix'>'\n",
      "2022/05/31 07:56:34 WARNING mlflow.sklearn: Failed to infer model signature: Expected one of (pandas.DataFrame, numpy array, dictionary of (name -> numpy.ndarray), pyspark.sql.DataFrame) but got '<class 'scipy.sparse.csr.csr_matrix'>'\n",
      "2022/05/31 07:57:01 WARNING mlflow.sklearn: Failed to infer model signature: Expected one of (pandas.DataFrame, numpy array, dictionary of (name -> numpy.ndarray), pyspark.sql.DataFrame) but got '<class 'scipy.sparse.csr.csr_matrix'>'\n",
      "2022/05/31 07:57:31 WARNING mlflow.sklearn: Failed to infer model signature: Expected one of (pandas.DataFrame, numpy array, dictionary of (name -> numpy.ndarray), pyspark.sql.DataFrame) but got '<class 'scipy.sparse.csr.csr_matrix'>'\n",
      "2022/05/31 07:57:50 WARNING mlflow.sklearn: Failed to infer model signature: Expected one of (pandas.DataFrame, numpy array, dictionary of (name -> numpy.ndarray), pyspark.sql.DataFrame) but got '<class 'scipy.sparse.csr.csr_matrix'>'\n",
      "Traceback (most recent call last):\n",
      "  File \"register_model.py\", line 97, in <module>\n",
      "    run(args.data_path, args.top_n)\n",
      "  File \"register_model.py\", line 78, in run\n",
      "    mlflow.register_model(model_uri=uri, name='best_model' )\n",
      "  File \"/home/elite/.local/lib/python3.8/site-packages/mlflow/tracking/_model_registry/fluent.py\", line 67, in register_model\n",
      "    raise e\n",
      "  File \"/home/elite/.local/lib/python3.8/site-packages/mlflow/tracking/_model_registry/fluent.py\", line 58, in register_model\n",
      "    create_model_response = client.create_registered_model(name)\n",
      "  File \"/home/elite/.local/lib/python3.8/site-packages/mlflow/tracking/client.py\", line 1608, in create_registered_model\n",
      "    return self._get_registry_client().create_registered_model(name, tags, description)\n",
      "  File \"/home/elite/.local/lib/python3.8/site-packages/mlflow/tracking/_model_registry/client.py\", line 52, in create_registered_model\n",
      "    return self.store.create_registered_model(name, tags, description)\n",
      "  File \"/home/elite/.local/lib/python3.8/site-packages/mlflow/store/model_registry/rest_store.py\", line 77, in create_registered_model\n",
      "    response_proto = self._call_endpoint(CreateRegisteredModel, req_body)\n",
      "  File \"/home/elite/.local/lib/python3.8/site-packages/mlflow/store/model_registry/rest_store.py\", line 58, in _call_endpoint\n",
      "    return call_endpoint(self.get_host_creds(), endpoint, method, json_body, response_proto)\n",
      "  File \"/home/elite/.local/lib/python3.8/site-packages/mlflow/utils/rest_utils.py\", line 170, in call_endpoint\n",
      "    response = verify_rest_response(response, endpoint)\n",
      "  File \"/home/elite/.local/lib/python3.8/site-packages/mlflow/utils/rest_utils.py\", line 122, in verify_rest_response\n",
      "    raise RestException(json.loads(response.text))\n",
      "mlflow.exceptions.RestException: INVALID_PARAMETER_VALUE:  Model registry functionality is unavailable; got unsupported URI './mlruns' for model registry data storage. Supported URI schemes are: ['postgresql', 'mysql', 'sqlite', 'mssql']. See https://www.mlflow.org/docs/latest/tracking.html#storage for how to run an MLflow server against one of the supported backend storage locations.\n"
     ]
    }
   ],
   "source": [
    "! python3 register_model.py --data_path ./data"
   ]
  },
  {
   "cell_type": "markdown",
   "id": "91a8c1a9",
   "metadata": {},
   "source": [
    "The minimum RMSE ontraining set is 6.548."
   ]
  },
  {
   "cell_type": "code",
   "execution_count": null,
   "id": "00e2a315",
   "metadata": {},
   "outputs": [],
   "source": []
  }
 ],
 "metadata": {
  "kernelspec": {
   "display_name": "Python 3",
   "language": "python",
   "name": "python3"
  },
  "language_info": {
   "codemirror_mode": {
    "name": "ipython",
    "version": 3
   },
   "file_extension": ".py",
   "mimetype": "text/x-python",
   "name": "python",
   "nbconvert_exporter": "python",
   "pygments_lexer": "ipython3",
   "version": "3.8.10"
  }
 },
 "nbformat": 4,
 "nbformat_minor": 5
}
