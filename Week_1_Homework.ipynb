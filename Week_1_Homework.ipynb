{
 "cells": [
  {
   "cell_type": "code",
   "execution_count": 2,
   "id": "4e3cfe27",
   "metadata": {},
   "outputs": [],
   "source": [
    "import pandas as pd\n",
    "import numpy as np"
   ]
  },
  {
   "cell_type": "markdown",
   "id": "b2361eba",
   "metadata": {},
   "source": [
    "## Q1. Downloading the data\n",
    "Read the data for January. How many records are there?"
   ]
  },
  {
   "cell_type": "code",
   "execution_count": 3,
   "id": "f5609990",
   "metadata": {},
   "outputs": [],
   "source": [
    "df_jan_21 = pd.read_parquet('../data/fhv_tripdata_2021-01.parquet')"
   ]
  },
  {
   "cell_type": "code",
   "execution_count": 4,
   "id": "c8b6c674",
   "metadata": {},
   "outputs": [
    {
     "data": {
      "text/plain": [
       "1154112"
      ]
     },
     "execution_count": 4,
     "metadata": {},
     "output_type": "execute_result"
    }
   ],
   "source": [
    "# Number of records - For-Hire Vehicle Trip Records in January 2021\n",
    "df_jan_21.shape[0]"
   ]
  },
  {
   "cell_type": "markdown",
   "id": "5b7b29b2",
   "metadata": {},
   "source": [
    "## Q2. Computing duration\n",
    "Now let's compute the duration variable. It should contain the duration of a ride in minutes.\n",
    "\n",
    "What's the average trip duration in January?"
   ]
  },
  {
   "cell_type": "code",
   "execution_count": 5,
   "id": "d471b3d5",
   "metadata": {},
   "outputs": [],
   "source": [
    "df_jan_21['trip_duration_min'] = df_jan_21['dropOff_datetime'] - df_jan_21['pickup_datetime']"
   ]
  },
  {
   "cell_type": "code",
   "execution_count": 6,
   "id": "653b4267",
   "metadata": {},
   "outputs": [],
   "source": [
    "df_jan_21['trip_duration_min'] = df_jan_21['trip_duration_min'].apply(lambda x : x.total_seconds()/60)"
   ]
  },
  {
   "cell_type": "code",
   "execution_count": 7,
   "id": "8f785ad0",
   "metadata": {},
   "outputs": [
    {
     "data": {
      "text/plain": [
       "19.167224093791006"
      ]
     },
     "execution_count": 7,
     "metadata": {},
     "output_type": "execute_result"
    }
   ],
   "source": [
    "df_jan_21['trip_duration_min'].mean()"
   ]
  },
  {
   "cell_type": "markdown",
   "id": "9bc21598",
   "metadata": {},
   "source": [
    "Data preparation\n",
    "Check the distribution of the duration variable. There are some outliers.\n",
    "\n",
    "Let's remove them and keep only the records where the duration was between 1 and 60 minutes (inclusive).\n",
    "\n",
    "How many records did you drop?\n",
    "\n",
    "\n"
   ]
  },
  {
   "cell_type": "code",
   "execution_count": 8,
   "id": "c221f1b0",
   "metadata": {},
   "outputs": [],
   "source": [
    "df_jan_21_dropped = df_jan_21[(df_jan_21['trip_duration_min'] >= 1) & (df_jan_21['trip_duration_min'] <= 60)]"
   ]
  },
  {
   "cell_type": "code",
   "execution_count": 9,
   "id": "0e50fa1e",
   "metadata": {},
   "outputs": [
    {
     "data": {
      "text/plain": [
       "1109826"
      ]
     },
     "execution_count": 9,
     "metadata": {},
     "output_type": "execute_result"
    }
   ],
   "source": [
    "df_jan_21_dropped.shape[0]"
   ]
  },
  {
   "cell_type": "code",
   "execution_count": 10,
   "id": "d6ee61eb",
   "metadata": {},
   "outputs": [
    {
     "data": {
      "text/plain": [
       "44286"
      ]
     },
     "execution_count": 10,
     "metadata": {},
     "output_type": "execute_result"
    }
   ],
   "source": [
    "df_jan_21.shape[0] - df_jan_21_dropped.shape[0]"
   ]
  },
  {
   "cell_type": "markdown",
   "id": "89ef1944",
   "metadata": {},
   "source": [
    "## Q3. Missing values\n",
    "The features we'll use for our model are the pickup and dropoff location IDs.\n",
    "\n",
    "But they have a lot of missing values there. Let's replace them with \"-1\".\n",
    "\n",
    "What's the fractions of missing values for the pickup location ID? I.e. fraction of \"-1\"s after you filled the NAs.\n"
   ]
  },
  {
   "cell_type": "code",
   "execution_count": 11,
   "id": "d37b15f9",
   "metadata": {},
   "outputs": [
    {
     "data": {
      "text/plain": [
       "dispatching_base_num        0.000000\n",
       "pickup_datetime             0.000000\n",
       "dropOff_datetime            0.000000\n",
       "PUlocationID               83.030676\n",
       "DOlocationID               14.055828\n",
       "SR_Flag                   100.000000\n",
       "Affiliated_base_number      0.076682\n",
       "trip_duration_min           0.000000\n",
       "dtype: float64"
      ]
     },
     "execution_count": 11,
     "metadata": {},
     "output_type": "execute_result"
    }
   ],
   "source": [
    "df_jan_21.isnull().mean()*100"
   ]
  },
  {
   "cell_type": "code",
   "execution_count": 12,
   "id": "7d437959",
   "metadata": {},
   "outputs": [],
   "source": [
    "df_jan_21[['PUlocationID', 'DOlocationID']] = df_jan_21[['PUlocationID', 'DOlocationID']].replace(np.nan, -1)"
   ]
  },
  {
   "cell_type": "code",
   "execution_count": 13,
   "id": "16959135",
   "metadata": {},
   "outputs": [
    {
     "data": {
      "text/plain": [
       "83.03067639882438"
      ]
     },
     "execution_count": 13,
     "metadata": {},
     "output_type": "execute_result"
    }
   ],
   "source": [
    "len(df_jan_21[df_jan_21['PUlocationID']== -1])*100/len(df_jan_21)"
   ]
  },
  {
   "cell_type": "markdown",
   "id": "08f2f73d",
   "metadata": {},
   "source": [
    "## Q4. One-hot encoding\n",
    "Let's apply one-hot encoding to the pickup and dropoff location IDs. We'll use only these two features for our model.\n",
    "\n",
    "Turn the dataframe into a list of dictionaries\n",
    "Fit a dictionary vectorizer\n",
    "Get a feature matrix from it\n",
    "What's the dimensionality of this matrix? (The number of columns)."
   ]
  },
  {
   "cell_type": "code",
   "execution_count": 14,
   "id": "6a04c7ea",
   "metadata": {},
   "outputs": [],
   "source": [
    "from sklearn.feature_extraction import DictVectorizer"
   ]
  },
  {
   "cell_type": "code",
   "execution_count": 15,
   "id": "e3de2bb1",
   "metadata": {},
   "outputs": [
    {
     "name": "stderr",
     "output_type": "stream",
     "text": [
      "/home/elite/.local/lib/python3.8/site-packages/pandas/core/frame.py:3188: SettingWithCopyWarning: \n",
      "A value is trying to be set on a copy of a slice from a DataFrame.\n",
      "Try using .loc[row_indexer,col_indexer] = value instead\n",
      "\n",
      "See the caveats in the documentation: https://pandas.pydata.org/pandas-docs/stable/user_guide/indexing.html#returning-a-view-versus-a-copy\n",
      "  self[k1] = value[k2]\n"
     ]
    }
   ],
   "source": [
    "categorical_features = ['PUlocationID', 'DOlocationID']\n",
    "df_jan_21_dropped[categorical_features] = df_jan_21_dropped[categorical_features].astype(str)"
   ]
  },
  {
   "cell_type": "code",
   "execution_count": 16,
   "id": "97c2e5a6",
   "metadata": {},
   "outputs": [],
   "source": [
    "dict_vectorizer = DictVectorizer()"
   ]
  },
  {
   "cell_type": "code",
   "execution_count": 17,
   "id": "fb3a5d41",
   "metadata": {},
   "outputs": [],
   "source": [
    "df_jan_dict = df_jan_21_dropped[categorical_features].to_dict(orient='records')"
   ]
  },
  {
   "cell_type": "code",
   "execution_count": 18,
   "id": "53ddaa6e",
   "metadata": {},
   "outputs": [],
   "source": [
    "X_train = dict_vectorizer.fit_transform(df_jan_dict)"
   ]
  },
  {
   "cell_type": "code",
   "execution_count": 19,
   "id": "93964c12",
   "metadata": {},
   "outputs": [
    {
     "data": {
      "text/plain": [
       "525"
      ]
     },
     "execution_count": 19,
     "metadata": {},
     "output_type": "execute_result"
    }
   ],
   "source": [
    "X_train.shape[1]"
   ]
  },
  {
   "cell_type": "code",
   "execution_count": 20,
   "id": "da02d311",
   "metadata": {},
   "outputs": [],
   "source": [
    "y_train = df_jan_21_dropped['trip_duration_min'].values"
   ]
  },
  {
   "cell_type": "code",
   "execution_count": 21,
   "id": "7afdf4d3",
   "metadata": {},
   "outputs": [
    {
     "data": {
      "text/plain": [
       "array([17.        , 17.        ,  8.28333333, ..., 16.2       ,\n",
       "       19.43333333, 36.        ])"
      ]
     },
     "execution_count": 21,
     "metadata": {},
     "output_type": "execute_result"
    }
   ],
   "source": [
    "y_train"
   ]
  },
  {
   "cell_type": "markdown",
   "id": "4f64487a",
   "metadata": {},
   "source": [
    "## Q5. Training a model\n",
    "Now let's use the feature matrix from the previous step to train a model.\n",
    "\n",
    "Train a plain linear regression model with default parameters\n",
    "Calculate the RMSE of the model on the training data\n",
    "What's the RMSE on train?"
   ]
  },
  {
   "cell_type": "code",
   "execution_count": 22,
   "id": "fe32894b",
   "metadata": {},
   "outputs": [],
   "source": [
    "from sklearn.linear_model import LinearRegression\n",
    "from sklearn.metrics import mean_squared_error"
   ]
  },
  {
   "cell_type": "code",
   "execution_count": 23,
   "id": "9fa7c694",
   "metadata": {},
   "outputs": [],
   "source": [
    "model_lr = LinearRegression()"
   ]
  },
  {
   "cell_type": "code",
   "execution_count": 24,
   "id": "1bf6ea19",
   "metadata": {},
   "outputs": [
    {
     "data": {
      "text/plain": [
       "LinearRegression()"
      ]
     },
     "execution_count": 24,
     "metadata": {},
     "output_type": "execute_result"
    }
   ],
   "source": [
    "model_lr.fit(X_train, y_train)"
   ]
  },
  {
   "cell_type": "code",
   "execution_count": 25,
   "id": "f4b5008e",
   "metadata": {},
   "outputs": [],
   "source": [
    "y_pred = model_lr.predict(X_train)\n",
    "rmse = mean_squared_error(y_train, y_pred, squared=False)"
   ]
  },
  {
   "cell_type": "code",
   "execution_count": 26,
   "id": "1142e16f",
   "metadata": {},
   "outputs": [
    {
     "data": {
      "text/plain": [
       "10.52851910720539"
      ]
     },
     "execution_count": 26,
     "metadata": {},
     "output_type": "execute_result"
    }
   ],
   "source": [
    "rmse"
   ]
  },
  {
   "cell_type": "markdown",
   "id": "aa776d4f",
   "metadata": {},
   "source": [
    "## Q6. Evaluating the model\n",
    "Now let's apply this model to the validation dataset (Feb 2021).\n",
    "\n",
    "What's the RMSE on validation?"
   ]
  },
  {
   "cell_type": "code",
   "execution_count": 27,
   "id": "9bf4d2a8",
   "metadata": {},
   "outputs": [],
   "source": [
    "\n",
    "df_feb_21 = pd.read_parquet('../data/fhv_tripdata_2021-02.parquet')"
   ]
  },
  {
   "cell_type": "code",
   "execution_count": 36,
   "id": "f9058dc1",
   "metadata": {},
   "outputs": [],
   "source": [
    "df_feb_21['trip_duration_min'] = df_feb_21['dropOff_datetime'] - df_feb_21['pickup_datetime']"
   ]
  },
  {
   "cell_type": "code",
   "execution_count": 37,
   "id": "22bba9b3",
   "metadata": {},
   "outputs": [],
   "source": [
    "df_feb_21['trip_duration_min'] = df_feb_21['trip_duration_min'].apply(lambda x : x.total_seconds()/60)"
   ]
  },
  {
   "cell_type": "code",
   "execution_count": 43,
   "id": "5b843cd7",
   "metadata": {},
   "outputs": [],
   "source": [
    "df_feb_21_dropped = df_feb_21[(df_feb_21['trip_duration_min'] >= 1) & (df_feb_21['trip_duration_min'] <= 60)]"
   ]
  },
  {
   "cell_type": "code",
   "execution_count": 44,
   "id": "6c085258",
   "metadata": {},
   "outputs": [],
   "source": [
    "df_feb_dict = df_feb_21_dropped[categorical_features].to_dict(orient='records')\n",
    "X_val = dict_vectorizer.transform(df_feb_dict)"
   ]
  },
  {
   "cell_type": "code",
   "execution_count": 45,
   "id": "e2e4ac4f",
   "metadata": {},
   "outputs": [],
   "source": [
    "y_val = df_feb_21_dropped['trip_duration_min'].values"
   ]
  },
  {
   "cell_type": "code",
   "execution_count": 51,
   "id": "c9e680ce",
   "metadata": {},
   "outputs": [],
   "source": [
    "y_pred_val = model_lr.predict(X_val)\n",
    "rmse_val = mean_squared_error(y_val, y_pred_val, squared=False)"
   ]
  },
  {
   "cell_type": "code",
   "execution_count": 52,
   "id": "aaaf6b75",
   "metadata": {},
   "outputs": [
    {
     "data": {
      "text/plain": [
       "12.855087247019194"
      ]
     },
     "execution_count": 52,
     "metadata": {},
     "output_type": "execute_result"
    }
   ],
   "source": [
    "rmse_val"
   ]
  },
  {
   "cell_type": "code",
   "execution_count": null,
   "id": "b6340c15",
   "metadata": {},
   "outputs": [],
   "source": []
  }
 ],
 "metadata": {
  "kernelspec": {
   "display_name": "Python 3",
   "language": "python",
   "name": "python3"
  },
  "language_info": {
   "codemirror_mode": {
    "name": "ipython",
    "version": 3
   },
   "file_extension": ".py",
   "mimetype": "text/x-python",
   "name": "python",
   "nbconvert_exporter": "python",
   "pygments_lexer": "ipython3",
   "version": "3.8.10"
  }
 },
 "nbformat": 4,
 "nbformat_minor": 5
}
